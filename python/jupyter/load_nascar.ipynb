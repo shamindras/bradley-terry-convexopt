{
 "cells": [
  {
   "cell_type": "code",
   "execution_count": 13,
   "metadata": {},
   "outputs": [],
   "source": [
    "import numpy as np\n",
    "import pandas as pd"
   ]
  },
  {
   "cell_type": "markdown",
   "metadata": {},
   "source": [
    "## Load drivers Data"
   ]
  },
  {
   "cell_type": "code",
   "execution_count": 14,
   "metadata": {},
   "outputs": [],
   "source": [
    "nascar_excel_ref = \"../../data/nascar2002.xls\"\n",
    "drivers = pd.read_excel(nascar_excel_ref, sheet_name=\"drivers\")\n",
    "new_driver_colnames = ['driver_id', 'name', 'races', 'avg_rank', 'log_mle', 'std_error',\n",
    "                       'avg_rank_1', 'lasts', 'nonlasts', 'firsts', 'nonfirsts', 'avg_rank_2', \n",
    "                       'mle', 'ar_rank', 'mle_rank', 'diff', 'log_mle_1', 'std_error_1']\n",
    "drivers.columns = new_driver_colnames"
   ]
  },
  {
   "cell_type": "markdown",
   "metadata": {},
   "source": [
    "## Load the races data"
   ]
  },
  {
   "cell_type": "code",
   "execution_count": 20,
   "metadata": {},
   "outputs": [],
   "source": [
    "races = pd.read_excel(nascar_excel_ref, sheet_name=\"races\", index=False)\n",
    "new_races_colnames = ['driver_id','race', 'finish', 'start', 'car', 'driver', 'make',\n",
    "                      'sponsor', 'pts_bonus', 'laps', 'status', 'winnings',\n",
    "                      'first_place_name', 'last_place_name']\n",
    "races.columns = new_races_colnames\n",
    "del races.index.name\n",
    "\n",
    "# Let's get just the required columns from the races\n",
    "races_trimmed = races[['driver_id','race','finish']]"
   ]
  },
  {
   "cell_type": "markdown",
   "metadata": {},
   "source": [
    "## Get List of Unique Drivers"
   ]
  },
  {
   "cell_type": "code",
   "execution_count": 85,
   "metadata": {},
   "outputs": [],
   "source": [
    "unq_drivers = sorted(races_trimmed[\"driver_id\"].unique())\n",
    "\n",
    "# Remove nan from unique drivers\n",
    "unq_drivers = [x for x in unq_drivers if str(x) != 'nan']\n",
    "unq_races = sorted(races_trimmed[\"race\"].unique())\n",
    "unq_drivers_df = pd.DataFrame(unq_drivers, columns=[\"driver_id\"])\n",
    "unq_races_df = pd.DataFrame(unq_races, columns=[\"race\"])\n",
    "\n",
    "# Let's cross join the columns to get all unique combinations of drivers and races\n",
    "all_driver_race_combs = unq_drivers_df.assign(foo=1).merge(unq_races_df.assign(foo=1)).drop('foo', 1)\n",
    "all_driver_race_combs = all_driver_race_combs.sort_values(by=['race', 'driver_id'])\n",
    "all_driver_race_mg = pd.merge(all_driver_race_combs, races_trimmed,  how='left', left_on=['driver_id','race'], right_on = ['driver_id','race'])"
   ]
  },
  {
   "cell_type": "markdown",
   "metadata": {},
   "source": [
    "## Get pairwise differences for a single race"
   ]
  },
  {
   "cell_type": "code",
   "execution_count": 86,
   "metadata": {},
   "outputs": [
    {
     "data": {
      "text/plain": [
       "array([[ nan,  nan,  nan, ...,  nan,  nan,  nan],\n",
       "       [ nan,   0.,  21., ...,  nan,  nan,  nan],\n",
       "       [ nan, -21.,   0., ...,  nan,  nan,  nan],\n",
       "       ...,\n",
       "       [ nan,  nan,  nan, ...,  nan,  nan,  nan],\n",
       "       [ nan,  nan,  nan, ...,  nan,  nan,  nan],\n",
       "       [ nan,  nan,  nan, ...,  nan,  nan,  nan]])"
      ]
     },
     "execution_count": 86,
     "metadata": {},
     "output_type": "execute_result"
    }
   ],
   "source": [
    "race_1 = all_driver_race_mg[all_driver_race_mg[\"race\"] == 1.0]\n",
    "race_1 = race_1.sort_values(by=['driver_id'])\n",
    "arr = (race_1['finish'].values - race_1['finish'].values[:, None])\n",
    "new_race_1 = pd.concat((race_1['driver_id'], pd.DataFrame(arr, columns=race_1['driver_id'])), axis=1)\n",
    "new_race_1.values[:, 1:]"
   ]
  },
  {
   "cell_type": "code",
   "execution_count": null,
   "metadata": {},
   "outputs": [],
   "source": [
    "new_race_1.values.shape"
   ]
  },
  {
   "cell_type": "code",
   "execution_count": 84,
   "metadata": {},
   "outputs": [],
   "source": [
    "all_driver_race_mg = sorted(races_trimmed[\"race\"].unique())"
   ]
  },
  {
   "cell_type": "code",
   "execution_count": 114,
   "metadata": {},
   "outputs": [],
   "source": [
    "def pawise_ind(val):\n",
    "    if not np.isnan(val):\n",
    "        out = (val < 0) * 1\n",
    "    else:\n",
    "        out = val\n",
    "    return out"
   ]
  },
  {
   "cell_type": "code",
   "execution_count": 115,
   "metadata": {},
   "outputs": [],
   "source": [
    "def get_single_race_pawise(race_num, src_dat):\n",
    "    \"\"\"Get all pairwise race comparisons for a single race\"\"\"\n",
    "    # Subset values for the particular race\n",
    "    race_res = src_dat[all_driver_race_mg[\"race\"] == race_num]\n",
    "    race_res = race_res.sort_values(by=['driver_id'])\n",
    "    \n",
    "    # Get pairwise differences\n",
    "    arr = (race_1['finish'].values - race_1['finish'].values[:, None])\n",
    "    new_race_1 = pd.concat((race_1['driver_id'], pd.DataFrame(arr, columns=race_1['driver_id'])), axis=1)\n",
    "    new_race_1 = new_race_1.values{}\n",
    "    \n",
    "    vpawise_ind = np.vectorize(pawise_ind)\n",
    "    new_race_1 = vpawise_ind(new_race_1)\n",
    "    # Exclude the race numbers in our finall numpy array\n",
    "    return new_race_1\n",
    "\n",
    "def get_all_pawise_comb(src_dat):\n",
    "    unq_races = sorted(src_dat[\"race\"].unique())\n",
    "    all_pwise_races = [get_single_race_pawise(race_num=race, src_dat=src_dat) for race in unq_races]\n",
    "    return np.dstack(all_pwise_races)"
   ]
  },
  {
   "cell_type": "code",
   "execution_count": 116,
   "metadata": {},
   "outputs": [
    {
     "ename": "ValueError",
     "evalue": "cannot convert float NaN to integer",
     "output_type": "error",
     "traceback": [
      "\u001b[0;31m--------------------------------------------------------------\u001b[0m",
      "\u001b[0;31mValueError\u001b[0m                   Traceback (most recent call last)",
      "\u001b[0;32m<ipython-input-116-fe2ee11decfa>\u001b[0m in \u001b[0;36m<module>\u001b[0;34m()\u001b[0m\n\u001b[1;32m      1\u001b[0m \u001b[0munq_races\u001b[0m \u001b[0;34m=\u001b[0m \u001b[0msorted\u001b[0m\u001b[0;34m(\u001b[0m\u001b[0mall_driver_race_mg\u001b[0m\u001b[0;34m[\u001b[0m\u001b[0;34m\"race\"\u001b[0m\u001b[0;34m]\u001b[0m\u001b[0;34m.\u001b[0m\u001b[0munique\u001b[0m\u001b[0;34m(\u001b[0m\u001b[0;34m)\u001b[0m\u001b[0;34m)\u001b[0m\u001b[0;34m\u001b[0m\u001b[0m\n\u001b[1;32m      2\u001b[0m \u001b[0munq_races\u001b[0m\u001b[0;34m\u001b[0m\u001b[0m\n\u001b[0;32m----> 3\u001b[0;31m \u001b[0mall_pwise_races\u001b[0m \u001b[0;34m=\u001b[0m \u001b[0;34m[\u001b[0m\u001b[0mget_single_race_pawise\u001b[0m\u001b[0;34m(\u001b[0m\u001b[0mrace_num\u001b[0m\u001b[0;34m=\u001b[0m\u001b[0mrace\u001b[0m\u001b[0;34m,\u001b[0m \u001b[0msrc_dat\u001b[0m\u001b[0;34m=\u001b[0m\u001b[0mall_driver_race_mg\u001b[0m\u001b[0;34m)\u001b[0m \u001b[0;32mfor\u001b[0m \u001b[0mrace\u001b[0m \u001b[0;32min\u001b[0m \u001b[0munq_races\u001b[0m\u001b[0;34m]\u001b[0m\u001b[0;34m\u001b[0m\u001b[0m\n\u001b[0m\u001b[1;32m      4\u001b[0m \u001b[0mall_pwise_races_comb\u001b[0m \u001b[0;34m=\u001b[0m \u001b[0mnp\u001b[0m\u001b[0;34m.\u001b[0m\u001b[0mdstack\u001b[0m\u001b[0;34m(\u001b[0m\u001b[0mall_pwise_races\u001b[0m\u001b[0;34m)\u001b[0m\u001b[0;34m\u001b[0m\u001b[0m\n\u001b[1;32m      5\u001b[0m \u001b[0mall_pwise_races_comb\u001b[0m\u001b[0;34m.\u001b[0m\u001b[0mshape\u001b[0m\u001b[0;34m\u001b[0m\u001b[0m\n",
      "\u001b[0;32m<ipython-input-116-fe2ee11decfa>\u001b[0m in \u001b[0;36m<listcomp>\u001b[0;34m(.0)\u001b[0m\n\u001b[1;32m      1\u001b[0m \u001b[0munq_races\u001b[0m \u001b[0;34m=\u001b[0m \u001b[0msorted\u001b[0m\u001b[0;34m(\u001b[0m\u001b[0mall_driver_race_mg\u001b[0m\u001b[0;34m[\u001b[0m\u001b[0;34m\"race\"\u001b[0m\u001b[0;34m]\u001b[0m\u001b[0;34m.\u001b[0m\u001b[0munique\u001b[0m\u001b[0;34m(\u001b[0m\u001b[0;34m)\u001b[0m\u001b[0;34m)\u001b[0m\u001b[0;34m\u001b[0m\u001b[0m\n\u001b[1;32m      2\u001b[0m \u001b[0munq_races\u001b[0m\u001b[0;34m\u001b[0m\u001b[0m\n\u001b[0;32m----> 3\u001b[0;31m \u001b[0mall_pwise_races\u001b[0m \u001b[0;34m=\u001b[0m \u001b[0;34m[\u001b[0m\u001b[0mget_single_race_pawise\u001b[0m\u001b[0;34m(\u001b[0m\u001b[0mrace_num\u001b[0m\u001b[0;34m=\u001b[0m\u001b[0mrace\u001b[0m\u001b[0;34m,\u001b[0m \u001b[0msrc_dat\u001b[0m\u001b[0;34m=\u001b[0m\u001b[0mall_driver_race_mg\u001b[0m\u001b[0;34m)\u001b[0m \u001b[0;32mfor\u001b[0m \u001b[0mrace\u001b[0m \u001b[0;32min\u001b[0m \u001b[0munq_races\u001b[0m\u001b[0;34m]\u001b[0m\u001b[0;34m\u001b[0m\u001b[0m\n\u001b[0m\u001b[1;32m      4\u001b[0m \u001b[0mall_pwise_races_comb\u001b[0m \u001b[0;34m=\u001b[0m \u001b[0mnp\u001b[0m\u001b[0;34m.\u001b[0m\u001b[0mdstack\u001b[0m\u001b[0;34m(\u001b[0m\u001b[0mall_pwise_races\u001b[0m\u001b[0;34m)\u001b[0m\u001b[0;34m\u001b[0m\u001b[0m\n\u001b[1;32m      5\u001b[0m \u001b[0mall_pwise_races_comb\u001b[0m\u001b[0;34m.\u001b[0m\u001b[0mshape\u001b[0m\u001b[0;34m\u001b[0m\u001b[0m\n",
      "\u001b[0;32m<ipython-input-115-10c102552753>\u001b[0m in \u001b[0;36mget_single_race_pawise\u001b[0;34m(race_num, src_dat)\u001b[0m\n\u001b[1;32m     10\u001b[0m \u001b[0;34m\u001b[0m\u001b[0m\n\u001b[1;32m     11\u001b[0m     \u001b[0mvpawise_ind\u001b[0m \u001b[0;34m=\u001b[0m \u001b[0mnp\u001b[0m\u001b[0;34m.\u001b[0m\u001b[0mvectorize\u001b[0m\u001b[0;34m(\u001b[0m\u001b[0mpawise_ind\u001b[0m\u001b[0;34m)\u001b[0m\u001b[0;34m\u001b[0m\u001b[0m\n\u001b[0;32m---> 12\u001b[0;31m     \u001b[0mnew_race_1\u001b[0m \u001b[0;34m=\u001b[0m \u001b[0mvpawise_ind\u001b[0m\u001b[0;34m(\u001b[0m\u001b[0mnew_race_1\u001b[0m\u001b[0;34m)\u001b[0m\u001b[0;34m\u001b[0m\u001b[0m\n\u001b[0m\u001b[1;32m     13\u001b[0m     \u001b[0;31m# Exclude the race numbers in our finall numpy array\u001b[0m\u001b[0;34m\u001b[0m\u001b[0;34m\u001b[0m\u001b[0m\n\u001b[1;32m     14\u001b[0m     \u001b[0;32mreturn\u001b[0m \u001b[0mnew_race_1\u001b[0m\u001b[0;34m\u001b[0m\u001b[0m\n",
      "\u001b[0;32m~/anaconda/envs/sklearnprod1/lib/python3.6/site-packages/numpy/lib/function_base.py\u001b[0m in \u001b[0;36m__call__\u001b[0;34m(self, *args, **kwargs)\u001b[0m\n\u001b[1;32m   1970\u001b[0m             \u001b[0mvargs\u001b[0m\u001b[0;34m.\u001b[0m\u001b[0mextend\u001b[0m\u001b[0;34m(\u001b[0m\u001b[0;34m[\u001b[0m\u001b[0mkwargs\u001b[0m\u001b[0;34m[\u001b[0m\u001b[0m_n\u001b[0m\u001b[0;34m]\u001b[0m \u001b[0;32mfor\u001b[0m \u001b[0m_n\u001b[0m \u001b[0;32min\u001b[0m \u001b[0mnames\u001b[0m\u001b[0;34m]\u001b[0m\u001b[0;34m)\u001b[0m\u001b[0;34m\u001b[0m\u001b[0m\n\u001b[1;32m   1971\u001b[0m \u001b[0;34m\u001b[0m\u001b[0m\n\u001b[0;32m-> 1972\u001b[0;31m         \u001b[0;32mreturn\u001b[0m \u001b[0mself\u001b[0m\u001b[0;34m.\u001b[0m\u001b[0m_vectorize_call\u001b[0m\u001b[0;34m(\u001b[0m\u001b[0mfunc\u001b[0m\u001b[0;34m=\u001b[0m\u001b[0mfunc\u001b[0m\u001b[0;34m,\u001b[0m \u001b[0margs\u001b[0m\u001b[0;34m=\u001b[0m\u001b[0mvargs\u001b[0m\u001b[0;34m)\u001b[0m\u001b[0;34m\u001b[0m\u001b[0m\n\u001b[0m\u001b[1;32m   1973\u001b[0m \u001b[0;34m\u001b[0m\u001b[0m\n\u001b[1;32m   1974\u001b[0m     \u001b[0;32mdef\u001b[0m \u001b[0m_get_ufunc_and_otypes\u001b[0m\u001b[0;34m(\u001b[0m\u001b[0mself\u001b[0m\u001b[0;34m,\u001b[0m \u001b[0mfunc\u001b[0m\u001b[0;34m,\u001b[0m \u001b[0margs\u001b[0m\u001b[0;34m)\u001b[0m\u001b[0;34m:\u001b[0m\u001b[0;34m\u001b[0m\u001b[0m\n",
      "\u001b[0;32m~/anaconda/envs/sklearnprod1/lib/python3.6/site-packages/numpy/lib/function_base.py\u001b[0m in \u001b[0;36m_vectorize_call\u001b[0;34m(self, func, args)\u001b[0m\n\u001b[1;32m   2049\u001b[0m \u001b[0;34m\u001b[0m\u001b[0m\n\u001b[1;32m   2050\u001b[0m             \u001b[0;32mif\u001b[0m \u001b[0mufunc\u001b[0m\u001b[0;34m.\u001b[0m\u001b[0mnout\u001b[0m \u001b[0;34m==\u001b[0m \u001b[0;36m1\u001b[0m\u001b[0;34m:\u001b[0m\u001b[0;34m\u001b[0m\u001b[0m\n\u001b[0;32m-> 2051\u001b[0;31m                 \u001b[0mres\u001b[0m \u001b[0;34m=\u001b[0m \u001b[0marray\u001b[0m\u001b[0;34m(\u001b[0m\u001b[0moutputs\u001b[0m\u001b[0;34m,\u001b[0m \u001b[0mcopy\u001b[0m\u001b[0;34m=\u001b[0m\u001b[0;32mFalse\u001b[0m\u001b[0;34m,\u001b[0m \u001b[0msubok\u001b[0m\u001b[0;34m=\u001b[0m\u001b[0;32mTrue\u001b[0m\u001b[0;34m,\u001b[0m \u001b[0mdtype\u001b[0m\u001b[0;34m=\u001b[0m\u001b[0motypes\u001b[0m\u001b[0;34m[\u001b[0m\u001b[0;36m0\u001b[0m\u001b[0;34m]\u001b[0m\u001b[0;34m)\u001b[0m\u001b[0;34m\u001b[0m\u001b[0m\n\u001b[0m\u001b[1;32m   2052\u001b[0m             \u001b[0;32melse\u001b[0m\u001b[0;34m:\u001b[0m\u001b[0;34m\u001b[0m\u001b[0m\n\u001b[1;32m   2053\u001b[0m                 res = tuple([array(x, copy=False, subok=True, dtype=t)\n",
      "\u001b[0;31mValueError\u001b[0m: cannot convert float NaN to integer"
     ]
    }
   ],
   "source": [
    "unq_races = sorted(all_driver_race_mg[\"race\"].unique())\n",
    "unq_races\n",
    "all_pwise_races = [get_single_race_pawise(race_num=race, src_dat=all_driver_race_mg) for race in unq_races]\n",
    "all_pwise_races_comb = np.dstack(all_pwise_races)\n",
    "all_pwise_races_comb.shape"
   ]
  },
  {
   "cell_type": "code",
   "execution_count": 113,
   "metadata": {},
   "outputs": [
    {
     "data": {
      "text/plain": [
       "array([[  1.,  nan,  nan, ...,  nan,  nan,  nan],\n",
       "       [  2.,  nan,   0., ...,  nan,  nan,  nan],\n",
       "       [  3.,  nan, -21., ...,  nan,  nan,  nan],\n",
       "       ...,\n",
       "       [ 85.,  nan,  nan, ...,  nan,  nan,  nan],\n",
       "       [ 86.,  nan,  nan, ...,  nan,  nan,  nan],\n",
       "       [ 87.,  nan,  nan, ...,  nan,  nan,  nan]])"
      ]
     },
     "execution_count": 113,
     "metadata": {},
     "output_type": "execute_result"
    }
   ],
   "source": [
    "race_1_2 = get_single_race_pawise(race_num=1.0, src_dat=all_driver_race_mg)\n",
    "race_1_2"
   ]
  },
  {
   "cell_type": "code",
   "execution_count": 96,
   "metadata": {},
   "outputs": [],
   "source": [
    "all_races_pawise = get_all_pawise_comb(src_dat=all_driver_race_mg)"
   ]
  }
 ],
 "metadata": {
  "kernelspec": {
   "display_name": "Python 3",
   "language": "python",
   "name": "python3"
  },
  "language_info": {
   "codemirror_mode": {
    "name": "ipython",
    "version": 3
   },
   "file_extension": ".py",
   "mimetype": "text/x-python",
   "name": "python",
   "nbconvert_exporter": "python",
   "pygments_lexer": "ipython3",
   "version": "3.6.5"
  }
 },
 "nbformat": 4,
 "nbformat_minor": 2
}

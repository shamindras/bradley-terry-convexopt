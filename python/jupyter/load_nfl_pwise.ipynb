{
 "cells": [
  {
   "cell_type": "markdown",
   "metadata": {},
   "source": [
    "Def"
   ]
  },
  {
   "cell_type": "code",
   "execution_count": 7,
   "metadata": {},
   "outputs": [],
   "source": [
    "import numpy as np\n",
    "import pandas as pd\n",
    "import os"
   ]
  },
  {
   "cell_type": "code",
   "execution_count": 51,
   "metadata": {},
   "outputs": [],
   "source": [
    "def get_single_round_pwise(rnd_num, nfl_data_dir, season):\n",
    "    \"\"\"Gets the pairwise numpy array of score diffences across teams for a single\n",
    "       round in a season\n",
    "    \"\"\"\n",
    "    fname = \"round\" + \"_\" + str(rnd_num).zfill(2) + \".csv\"\n",
    "    fpath = os.path.join(nfl_data_dir, str(season), fname)\n",
    "    rnd_df = pd.read_csv(fpath)\n",
    "    pwise_diff = rnd_df.pivot(index='team_ind', columns='team_other_ind',values='diff').values\n",
    "    return pwise_diff"
   ]
  },
  {
   "cell_type": "markdown",
   "metadata": {},
   "source": [
    "## Define the NFL data directory and the required season"
   ]
  },
  {
   "cell_type": "code",
   "execution_count": 53,
   "metadata": {},
   "outputs": [],
   "source": [
    "NFL_DATA_DIR = \"../../data/nfl\"\n",
    "SEASON = 2009\n",
    "ALL_RNDS = range(1, 17)"
   ]
  },
  {
   "cell_type": "markdown",
   "metadata": {},
   "source": [
    "## Get pairwise differences for all Drivers for a single round in the season"
   ]
  },
  {
   "cell_type": "code",
   "execution_count": 54,
   "metadata": {},
   "outputs": [
    {
     "data": {
      "text/plain": [
       "array([[nan, nan, nan, ..., nan, nan, nan],\n",
       "       [nan, nan, nan, ..., nan, nan, nan],\n",
       "       [nan, nan, nan, ..., nan, nan, nan],\n",
       "       ...,\n",
       "       [nan, nan, nan, ..., nan, nan, nan],\n",
       "       [nan, nan, nan, ..., nan, nan, nan],\n",
       "       [nan, nan, nan, ..., nan, nan, nan]])"
      ]
     },
     "execution_count": 54,
     "metadata": {},
     "output_type": "execute_result"
    }
   ],
   "source": [
    "get_single_round_pwise(rnd_num=1, nfl_data_dir=NFL_DATA_DIR, season=SEASON)"
   ]
  },
  {
   "cell_type": "markdown",
   "metadata": {},
   "source": [
    "## Get pairwise differences for all Drivers for the entire season"
   ]
  },
  {
   "cell_type": "code",
   "execution_count": 64,
   "metadata": {},
   "outputs": [
    {
     "data": {
      "text/plain": [
       "(32, 32, 16)"
      ]
     },
     "execution_count": 64,
     "metadata": {},
     "output_type": "execute_result"
    }
   ],
   "source": [
    "all_pwise_season = np.dstack([get_single_round_pwise(rnd_num=rnd, nfl_data_dir=NFL_DATA_DIR, season=SEASON) \n",
    "                              for rnd in ALL_RNDS])\n",
    "all_pwise_season.shape"
   ]
  }
 ],
 "metadata": {
  "kernelspec": {
   "display_name": "Python 3",
   "language": "python",
   "name": "python3"
  },
  "language_info": {
   "codemirror_mode": {
    "name": "ipython",
    "version": 3
   },
   "file_extension": ".py",
   "mimetype": "text/x-python",
   "name": "python",
   "nbconvert_exporter": "python",
   "pygments_lexer": "ipython3",
   "version": "3.6.5"
  }
 },
 "nbformat": 4,
 "nbformat_minor": 2
}

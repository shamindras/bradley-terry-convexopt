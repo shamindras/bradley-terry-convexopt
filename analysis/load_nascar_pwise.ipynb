{
 "cells": [
  {
   "cell_type": "code",
   "execution_count": 1,
   "metadata": {},
   "outputs": [],
   "source": [
    "import numpy as np\n",
    "import pandas as pd"
   ]
  },
  {
   "cell_type": "markdown",
   "metadata": {},
   "source": [
    "### Download and Load the Raw Races Dataset"
   ]
  },
  {
   "cell_type": "code",
   "execution_count": 2,
   "metadata": {},
   "outputs": [],
   "source": [
    "url = \"http://personal.psu.edu/drh20/code/btmatlab/nascar2002.txt\"\n",
    "races_trimmed = pd.read_table(url, sep=\" \")"
   ]
  },
  {
   "cell_type": "markdown",
   "metadata": {},
   "source": [
    "### Create the Complete Dataset\n",
    "\n",
    "- Most drivers do not race all of the races, \n",
    "- We need to create a dataset with every combination of all drivers/ races so that we can take pairwise differences consistently"
   ]
  },
  {
   "cell_type": "code",
   "execution_count": 4,
   "metadata": {},
   "outputs": [],
   "source": [
    "# Create a cartesian product of unique drivers and races to get every combination\n",
    "unq_drivers = sorted(races_trimmed[\"DriverID\"].unique())\n",
    "unq_drivers = [x for x in unq_drivers if str(x) != 'nan']\n",
    "unq_races = sorted(races_trimmed[\"Race\"].unique())\n",
    "unq_races = [x for x in unq_races if str(x) != 'nan']\n",
    "\n",
    "# Get a dataframe \n",
    "unq_drivers_df = pd.DataFrame(unq_drivers, columns=[\"DriverID\"])\n",
    "unq_races_df = pd.DataFrame(unq_races, columns=[\"Race\"])\n",
    "\n",
    "# Let's cross join the columns to get all unique combinations of drivers and races\n",
    "all_driver_race_combs = unq_drivers_df.assign(foo=1).merge(unq_races_df.assign(foo=1)).drop('foo', 1)\n",
    "all_driver_race_combs = all_driver_race_combs.sort_values(by=['Race', 'DriverID'])\n",
    "all_driver_race_mg = pd.merge(all_driver_race_combs, races_trimmed,  how='left', \n",
    "                              left_on=['DriverID','Race'], right_on = ['DriverID','Race'])"
   ]
  },
  {
   "cell_type": "markdown",
   "metadata": {},
   "source": [
    "### For a single race calculate the pairwise differences"
   ]
  },
  {
   "cell_type": "code",
   "execution_count": 42,
   "metadata": {},
   "outputs": [],
   "source": [
    "def pawise_ind(val):\n",
    "    if np.isnan(val):\n",
    "        out = val\n",
    "    else:\n",
    "        out = (val < 0) * 1\n",
    "    return out\n",
    "\n",
    "def difference_matrix(a):\n",
    "    \"\"\" Get the pairwise differences in all quantities in a 1D-numpy array\n",
    "    Source: https://stackoverflow.com/questions/22863547/numpy-compute-all-possible-differences-in-an-array-at-fixed-distance\"\"\"\n",
    "    x = np.reshape(a, (len(a), 1))\n",
    "    return x - x.T\n",
    "\n",
    "def get_single_race_pwise(race_num, src_dat):\n",
    "    \"\"\"Get all pairwise race comparisons for a single race\"\"\"\n",
    "    \n",
    "    race_res = all_driver_race_mg[all_driver_race_mg[\"Race\"] == race_num]\n",
    "    race_res = race_res.sort_values(by=['DriverID'])\n",
    "    race_res_val = race_res.values[:, 2]\n",
    "    \n",
    "    vpawise_ind = np.vectorize(pawise_ind)\n",
    "    pwise_diff = difference_matrix(race_res_val)\n",
    "    #pwise_diff = vpawise_ind(pwise_diff)\n",
    "    \n",
    "    return pwise_diff\n",
    "\n",
    "def get_all_pwise_comb(src_dat):\n",
    "    unq_races = sorted(src_dat[\"Race\"].unique())\n",
    "    all_pwise_races = [get_single_race_pwise(race_num=race, src_dat=src_dat) for race in unq_races]\n",
    "    return np.dstack(all_pwise_races)"
   ]
  },
  {
   "cell_type": "markdown",
   "metadata": {},
   "source": [
    "## Get pairwise differences for all Drivers for a single race"
   ]
  },
  {
   "cell_type": "code",
   "execution_count": 49,
   "metadata": {},
   "outputs": [
    {
     "data": {
      "text/plain": [
       "(83, 83)"
      ]
     },
     "execution_count": 49,
     "metadata": {},
     "output_type": "execute_result"
    }
   ],
   "source": [
    "race_16_diffs = get_single_race_pwise(race_num=16.0, src_dat=all_driver_race_mg)\n",
    "race_16_diffs.shape"
   ]
  },
  {
   "cell_type": "markdown",
   "metadata": {},
   "source": [
    "## Get pairwise differences for all competitors and all races"
   ]
  },
  {
   "cell_type": "code",
   "execution_count": 47,
   "metadata": {},
   "outputs": [
    {
     "data": {
      "text/plain": [
       "(83, 83, 36)"
      ]
     },
     "execution_count": 47,
     "metadata": {},
     "output_type": "execute_result"
    }
   ],
   "source": [
    "all_pwise = get_all_pwise_comb(src_dat=all_driver_race_mg)\n",
    "all_pwise.shape"
   ]
  }
 ],
 "metadata": {
  "kernelspec": {
   "display_name": "Python 3",
   "language": "python",
   "name": "python3"
  },
  "language_info": {
   "codemirror_mode": {
    "name": "ipython",
    "version": 3
   },
   "file_extension": ".py",
   "mimetype": "text/x-python",
   "name": "python",
   "nbconvert_exporter": "python",
   "pygments_lexer": "ipython3",
   "version": "3.6.5"
  }
 },
 "nbformat": 4,
 "nbformat_minor": 2
}
